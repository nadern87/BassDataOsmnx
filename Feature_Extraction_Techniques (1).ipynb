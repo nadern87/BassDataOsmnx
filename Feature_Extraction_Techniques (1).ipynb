{
  "nbformat": 4,
  "nbformat_minor": 0,
  "metadata": {
    "colab": {
      "provenance": [],
      "authorship_tag": "ABX9TyNQRMkfe5G1+NZK7lSy18qM",
      "include_colab_link": true
    },
    "kernelspec": {
      "name": "python3",
      "display_name": "Python 3"
    },
    "language_info": {
      "name": "python"
    }
  },
  "cells": [
    {
      "cell_type": "markdown",
      "metadata": {
        "id": "view-in-github",
        "colab_type": "text"
      },
      "source": [
        "<a href=\"https://colab.research.google.com/github/nadern87/BassDataOsmnx/blob/main/Feature_Extraction_Techniques%20(1).ipynb\" target=\"_parent\"><img src=\"https://colab.research.google.com/assets/colab-badge.svg\" alt=\"Open In Colab\"/></a>"
      ]
    },
    {
      "cell_type": "code",
      "execution_count": 1,
      "metadata": {
        "id": "t9KuPtgAnfu7"
      },
      "outputs": [],
      "source": [
        "import time\n",
        "import numpy as np \n",
        "import pandas as pd \n",
        "import matplotlib.pyplot as plt\n",
        "from matplotlib.pyplot import figure\n",
        "import seaborn as sns\n",
        "from sklearn import preprocessing\n",
        "from sklearn.preprocessing import LabelEncoder\n",
        "from sklearn.preprocessing import StandardScaler\n",
        "from sklearn.model_selection import train_test_split\n",
        "from sklearn.metrics import classification_report,confusion_matrix\n",
        "from sklearn.ensemble import RandomForestClassifier"
      ]
    },
    {
      "cell_type": "code",
      "source": [
        "df = pd.read_csv(\"Bass_BigTable.csv\")"
      ],
      "metadata": {
        "id": "7o5XG4DayX8J"
      },
      "execution_count": 2,
      "outputs": []
    },
    {
      "cell_type": "code",
      "source": [
        "df.head(5)"
      ],
      "metadata": {
        "colab": {
          "base_uri": "https://localhost:8080/",
          "height": 386
        },
        "id": "oSihZr_xykvT",
        "outputId": "afea7746-663f-4a2b-d128-ce933f7d0f64"
      },
      "execution_count": 3,
      "outputs": [
        {
          "output_type": "execute_result",
          "data": {
            "text/plain": [
              "   Price  Id  Size      Format          City  Impression  B01001001  \\\n",
              "0    700   1  44.6  Individual  Lacassine LA       68992       5384   \n",
              "1    700   2  44.6  Individual  Lacassine LA       68992       5384   \n",
              "2    700   3  44.6     Stacked  Lacassine LA       68992       4641   \n",
              "3    700   4  44.6  Individual    Baldwin LA       24379       1534   \n",
              "4    825   6  44.6  Individual  Lacassine LA       68992       5384   \n",
              "\n",
              "   B01001002  B01001003  B01001004  ...  serviceRoad  trackRoad  footwayRoad  \\\n",
              "0       2919        213        152  ...           43          5            4   \n",
              "1       2919        213        152  ...           52          3           17   \n",
              "2       2198        174        162  ...          183         10            1   \n",
              "3        876          6          0  ...           66          2            0   \n",
              "4       2919        213        152  ...           43          5            4   \n",
              "\n",
              "   pathRoad  traffic_signals  aggr_residential_zone  aggr_commercial_zone  \\\n",
              "0         0                0                      2                     1   \n",
              "1         0                0                      3                     1   \n",
              "2         0                0                      1                     0   \n",
              "3         0                0                      0                     0   \n",
              "4         0                0                      2                     1   \n",
              "\n",
              "   aggr_natural_zone  BFP_Count  BFP_Area  \n",
              "0                 29         22    694.83  \n",
              "1                 30         12    486.00  \n",
              "2                 42         38    919.75  \n",
              "3                 21        125   1430.83  \n",
              "4                 29         22    694.83  \n",
              "\n",
              "[5 rows x 408 columns]"
            ],
            "text/html": [
              "\n",
              "  <div id=\"df-0d129317-7c81-4c8d-a497-c8dea4d98c3a\">\n",
              "    <div class=\"colab-df-container\">\n",
              "      <div>\n",
              "<style scoped>\n",
              "    .dataframe tbody tr th:only-of-type {\n",
              "        vertical-align: middle;\n",
              "    }\n",
              "\n",
              "    .dataframe tbody tr th {\n",
              "        vertical-align: top;\n",
              "    }\n",
              "\n",
              "    .dataframe thead th {\n",
              "        text-align: right;\n",
              "    }\n",
              "</style>\n",
              "<table border=\"1\" class=\"dataframe\">\n",
              "  <thead>\n",
              "    <tr style=\"text-align: right;\">\n",
              "      <th></th>\n",
              "      <th>Price</th>\n",
              "      <th>Id</th>\n",
              "      <th>Size</th>\n",
              "      <th>Format</th>\n",
              "      <th>City</th>\n",
              "      <th>Impression</th>\n",
              "      <th>B01001001</th>\n",
              "      <th>B01001002</th>\n",
              "      <th>B01001003</th>\n",
              "      <th>B01001004</th>\n",
              "      <th>...</th>\n",
              "      <th>serviceRoad</th>\n",
              "      <th>trackRoad</th>\n",
              "      <th>footwayRoad</th>\n",
              "      <th>pathRoad</th>\n",
              "      <th>traffic_signals</th>\n",
              "      <th>aggr_residential_zone</th>\n",
              "      <th>aggr_commercial_zone</th>\n",
              "      <th>aggr_natural_zone</th>\n",
              "      <th>BFP_Count</th>\n",
              "      <th>BFP_Area</th>\n",
              "    </tr>\n",
              "  </thead>\n",
              "  <tbody>\n",
              "    <tr>\n",
              "      <th>0</th>\n",
              "      <td>700</td>\n",
              "      <td>1</td>\n",
              "      <td>44.6</td>\n",
              "      <td>Individual</td>\n",
              "      <td>Lacassine LA</td>\n",
              "      <td>68992</td>\n",
              "      <td>5384</td>\n",
              "      <td>2919</td>\n",
              "      <td>213</td>\n",
              "      <td>152</td>\n",
              "      <td>...</td>\n",
              "      <td>43</td>\n",
              "      <td>5</td>\n",
              "      <td>4</td>\n",
              "      <td>0</td>\n",
              "      <td>0</td>\n",
              "      <td>2</td>\n",
              "      <td>1</td>\n",
              "      <td>29</td>\n",
              "      <td>22</td>\n",
              "      <td>694.83</td>\n",
              "    </tr>\n",
              "    <tr>\n",
              "      <th>1</th>\n",
              "      <td>700</td>\n",
              "      <td>2</td>\n",
              "      <td>44.6</td>\n",
              "      <td>Individual</td>\n",
              "      <td>Lacassine LA</td>\n",
              "      <td>68992</td>\n",
              "      <td>5384</td>\n",
              "      <td>2919</td>\n",
              "      <td>213</td>\n",
              "      <td>152</td>\n",
              "      <td>...</td>\n",
              "      <td>52</td>\n",
              "      <td>3</td>\n",
              "      <td>17</td>\n",
              "      <td>0</td>\n",
              "      <td>0</td>\n",
              "      <td>3</td>\n",
              "      <td>1</td>\n",
              "      <td>30</td>\n",
              "      <td>12</td>\n",
              "      <td>486.00</td>\n",
              "    </tr>\n",
              "    <tr>\n",
              "      <th>2</th>\n",
              "      <td>700</td>\n",
              "      <td>3</td>\n",
              "      <td>44.6</td>\n",
              "      <td>Stacked</td>\n",
              "      <td>Lacassine LA</td>\n",
              "      <td>68992</td>\n",
              "      <td>4641</td>\n",
              "      <td>2198</td>\n",
              "      <td>174</td>\n",
              "      <td>162</td>\n",
              "      <td>...</td>\n",
              "      <td>183</td>\n",
              "      <td>10</td>\n",
              "      <td>1</td>\n",
              "      <td>0</td>\n",
              "      <td>0</td>\n",
              "      <td>1</td>\n",
              "      <td>0</td>\n",
              "      <td>42</td>\n",
              "      <td>38</td>\n",
              "      <td>919.75</td>\n",
              "    </tr>\n",
              "    <tr>\n",
              "      <th>3</th>\n",
              "      <td>700</td>\n",
              "      <td>4</td>\n",
              "      <td>44.6</td>\n",
              "      <td>Individual</td>\n",
              "      <td>Baldwin LA</td>\n",
              "      <td>24379</td>\n",
              "      <td>1534</td>\n",
              "      <td>876</td>\n",
              "      <td>6</td>\n",
              "      <td>0</td>\n",
              "      <td>...</td>\n",
              "      <td>66</td>\n",
              "      <td>2</td>\n",
              "      <td>0</td>\n",
              "      <td>0</td>\n",
              "      <td>0</td>\n",
              "      <td>0</td>\n",
              "      <td>0</td>\n",
              "      <td>21</td>\n",
              "      <td>125</td>\n",
              "      <td>1430.83</td>\n",
              "    </tr>\n",
              "    <tr>\n",
              "      <th>4</th>\n",
              "      <td>825</td>\n",
              "      <td>6</td>\n",
              "      <td>44.6</td>\n",
              "      <td>Individual</td>\n",
              "      <td>Lacassine LA</td>\n",
              "      <td>68992</td>\n",
              "      <td>5384</td>\n",
              "      <td>2919</td>\n",
              "      <td>213</td>\n",
              "      <td>152</td>\n",
              "      <td>...</td>\n",
              "      <td>43</td>\n",
              "      <td>5</td>\n",
              "      <td>4</td>\n",
              "      <td>0</td>\n",
              "      <td>0</td>\n",
              "      <td>2</td>\n",
              "      <td>1</td>\n",
              "      <td>29</td>\n",
              "      <td>22</td>\n",
              "      <td>694.83</td>\n",
              "    </tr>\n",
              "  </tbody>\n",
              "</table>\n",
              "<p>5 rows × 408 columns</p>\n",
              "</div>\n",
              "      <button class=\"colab-df-convert\" onclick=\"convertToInteractive('df-0d129317-7c81-4c8d-a497-c8dea4d98c3a')\"\n",
              "              title=\"Convert this dataframe to an interactive table.\"\n",
              "              style=\"display:none;\">\n",
              "        \n",
              "  <svg xmlns=\"http://www.w3.org/2000/svg\" height=\"24px\"viewBox=\"0 0 24 24\"\n",
              "       width=\"24px\">\n",
              "    <path d=\"M0 0h24v24H0V0z\" fill=\"none\"/>\n",
              "    <path d=\"M18.56 5.44l.94 2.06.94-2.06 2.06-.94-2.06-.94-.94-2.06-.94 2.06-2.06.94zm-11 1L8.5 8.5l.94-2.06 2.06-.94-2.06-.94L8.5 2.5l-.94 2.06-2.06.94zm10 10l.94 2.06.94-2.06 2.06-.94-2.06-.94-.94-2.06-.94 2.06-2.06.94z\"/><path d=\"M17.41 7.96l-1.37-1.37c-.4-.4-.92-.59-1.43-.59-.52 0-1.04.2-1.43.59L10.3 9.45l-7.72 7.72c-.78.78-.78 2.05 0 2.83L4 21.41c.39.39.9.59 1.41.59.51 0 1.02-.2 1.41-.59l7.78-7.78 2.81-2.81c.8-.78.8-2.07 0-2.86zM5.41 20L4 18.59l7.72-7.72 1.47 1.35L5.41 20z\"/>\n",
              "  </svg>\n",
              "      </button>\n",
              "      \n",
              "  <style>\n",
              "    .colab-df-container {\n",
              "      display:flex;\n",
              "      flex-wrap:wrap;\n",
              "      gap: 12px;\n",
              "    }\n",
              "\n",
              "    .colab-df-convert {\n",
              "      background-color: #E8F0FE;\n",
              "      border: none;\n",
              "      border-radius: 50%;\n",
              "      cursor: pointer;\n",
              "      display: none;\n",
              "      fill: #1967D2;\n",
              "      height: 32px;\n",
              "      padding: 0 0 0 0;\n",
              "      width: 32px;\n",
              "    }\n",
              "\n",
              "    .colab-df-convert:hover {\n",
              "      background-color: #E2EBFA;\n",
              "      box-shadow: 0px 1px 2px rgba(60, 64, 67, 0.3), 0px 1px 3px 1px rgba(60, 64, 67, 0.15);\n",
              "      fill: #174EA6;\n",
              "    }\n",
              "\n",
              "    [theme=dark] .colab-df-convert {\n",
              "      background-color: #3B4455;\n",
              "      fill: #D2E3FC;\n",
              "    }\n",
              "\n",
              "    [theme=dark] .colab-df-convert:hover {\n",
              "      background-color: #434B5C;\n",
              "      box-shadow: 0px 1px 3px 1px rgba(0, 0, 0, 0.15);\n",
              "      filter: drop-shadow(0px 1px 2px rgba(0, 0, 0, 0.3));\n",
              "      fill: #FFFFFF;\n",
              "    }\n",
              "  </style>\n",
              "\n",
              "      <script>\n",
              "        const buttonEl =\n",
              "          document.querySelector('#df-0d129317-7c81-4c8d-a497-c8dea4d98c3a button.colab-df-convert');\n",
              "        buttonEl.style.display =\n",
              "          google.colab.kernel.accessAllowed ? 'block' : 'none';\n",
              "\n",
              "        async function convertToInteractive(key) {\n",
              "          const element = document.querySelector('#df-0d129317-7c81-4c8d-a497-c8dea4d98c3a');\n",
              "          const dataTable =\n",
              "            await google.colab.kernel.invokeFunction('convertToInteractive',\n",
              "                                                     [key], {});\n",
              "          if (!dataTable) return;\n",
              "\n",
              "          const docLinkHtml = 'Like what you see? Visit the ' +\n",
              "            '<a target=\"_blank\" href=https://colab.research.google.com/notebooks/data_table.ipynb>data table notebook</a>'\n",
              "            + ' to learn more about interactive tables.';\n",
              "          element.innerHTML = '';\n",
              "          dataTable['output_type'] = 'display_data';\n",
              "          await google.colab.output.renderOutput(dataTable, element);\n",
              "          const docLink = document.createElement('div');\n",
              "          docLink.innerHTML = docLinkHtml;\n",
              "          element.appendChild(docLink);\n",
              "        }\n",
              "      </script>\n",
              "    </div>\n",
              "  </div>\n",
              "  "
            ]
          },
          "metadata": {},
          "execution_count": 3
        }
      ]
    },
    {
      "cell_type": "markdown",
      "source": [
        "Before feeding this data into our Machine Learning models I decided to divide our data into features (X) and labels (Y) and One Hot Encode all the Categorical Variables."
      ],
      "metadata": {
        "id": "etMGK76Wyw2k"
      }
    },
    {
      "cell_type": "code",
      "source": [
        "X = df.drop(['Price'], axis = 1)\n",
        "Y = df['Price']\n",
        "X = pd.get_dummies(X, prefix_sep='_')\n",
        "Y = LabelEncoder().fit_transform(Y)\n",
        "X = StandardScaler().fit_transform(X)"
      ],
      "metadata": {
        "id": "2RzdFD3LypM1"
      },
      "execution_count": 4,
      "outputs": []
    },
    {
      "cell_type": "markdown",
      "source": [
        "Successively, I decided to create a function (forest_test) to divide the input data into train and test sets and then train and test a Random Forest Classifier."
      ],
      "metadata": {
        "id": "GTzDwqG4zDLN"
      }
    },
    {
      "cell_type": "code",
      "source": [
        "def forest_test(X, Y):\n",
        "    X_Train, X_Test, Y_Train, Y_Test = train_test_split(X, Y, \n",
        "                                                        test_size = 0.30, \n",
        "                                                        random_state = 101)\n",
        "    start = time.process_time()\n",
        "    trainedforest = RandomForestClassifier(n_estimators=700).fit(X_Train,Y_Train)\n",
        "    print(time.process_time() - start)\n",
        "    predictionforest = trainedforest.predict(X_Test)\n",
        "    print(confusion_matrix(Y_Test,predictionforest))\n",
        "    print(classification_report(Y_Test,predictionforest))"
      ],
      "metadata": {
        "id": "wp-dAxo9zD_V"
      },
      "execution_count": 5,
      "outputs": []
    },
    {
      "cell_type": "markdown",
      "source": [
        "We can now use this function using the whole dataset and then use it successively to compare these results when using instead of the whole dataset just a reduced version."
      ],
      "metadata": {
        "id": "R5HnoA1KzO7l"
      }
    },
    {
      "cell_type": "code",
      "source": [
        "forest_test(X, Y)"
      ],
      "metadata": {
        "colab": {
          "base_uri": "https://localhost:8080/"
        },
        "id": "kvXNCxrLzQBl",
        "outputId": "0cbbf3e3-9fb2-4de7-f2a5-2276ee34ae71"
      },
      "execution_count": 6,
      "outputs": [
        {
          "output_type": "stream",
          "name": "stdout",
          "text": [
            "1.3709388820000008\n",
            "[[ 0  0  1  0  0  0  0]\n",
            " [ 0  0  3  0  0  0  0]\n",
            " [ 0  0 12  0  1  1  0]\n",
            " [ 0  0  1  0  0  0  0]\n",
            " [ 0  0  1  0  1  0  0]\n",
            " [ 0  0  0  0  0  0  0]\n",
            " [ 0  0  0  0  1  0  0]]\n",
            "              precision    recall  f1-score   support\n",
            "\n",
            "           0       0.00      0.00      0.00         1\n",
            "           1       0.00      0.00      0.00         3\n",
            "           2       0.67      0.86      0.75        14\n",
            "           3       0.00      0.00      0.00         1\n",
            "           4       0.33      0.50      0.40         2\n",
            "           5       0.00      0.00      0.00         0\n",
            "           6       0.00      0.00      0.00         1\n",
            "\n",
            "    accuracy                           0.59        22\n",
            "   macro avg       0.14      0.19      0.16        22\n",
            "weighted avg       0.45      0.59      0.51        22\n",
            "\n"
          ]
        },
        {
          "output_type": "stream",
          "name": "stderr",
          "text": [
            "/usr/local/lib/python3.10/dist-packages/sklearn/metrics/_classification.py:1344: UndefinedMetricWarning: Precision and F-score are ill-defined and being set to 0.0 in labels with no predicted samples. Use `zero_division` parameter to control this behavior.\n",
            "  _warn_prf(average, modifier, msg_start, len(result))\n",
            "/usr/local/lib/python3.10/dist-packages/sklearn/metrics/_classification.py:1344: UndefinedMetricWarning: Recall and F-score are ill-defined and being set to 0.0 in labels with no true samples. Use `zero_division` parameter to control this behavior.\n",
            "  _warn_prf(average, modifier, msg_start, len(result))\n",
            "/usr/local/lib/python3.10/dist-packages/sklearn/metrics/_classification.py:1344: UndefinedMetricWarning: Precision and F-score are ill-defined and being set to 0.0 in labels with no predicted samples. Use `zero_division` parameter to control this behavior.\n",
            "  _warn_prf(average, modifier, msg_start, len(result))\n",
            "/usr/local/lib/python3.10/dist-packages/sklearn/metrics/_classification.py:1344: UndefinedMetricWarning: Recall and F-score are ill-defined and being set to 0.0 in labels with no true samples. Use `zero_division` parameter to control this behavior.\n",
            "  _warn_prf(average, modifier, msg_start, len(result))\n",
            "/usr/local/lib/python3.10/dist-packages/sklearn/metrics/_classification.py:1344: UndefinedMetricWarning: Precision and F-score are ill-defined and being set to 0.0 in labels with no predicted samples. Use `zero_division` parameter to control this behavior.\n",
            "  _warn_prf(average, modifier, msg_start, len(result))\n",
            "/usr/local/lib/python3.10/dist-packages/sklearn/metrics/_classification.py:1344: UndefinedMetricWarning: Recall and F-score are ill-defined and being set to 0.0 in labels with no true samples. Use `zero_division` parameter to control this behavior.\n",
            "  _warn_prf(average, modifier, msg_start, len(result))\n"
          ]
        }
      ]
    },
    {
      "cell_type": "markdown",
      "source": [
        "As shown below, training a Random Forest classifier using all the features, led to 59% Accuracy in about 1.37s of training time. In each of the following examples, the training time of each model will be printed out on the first line of each snippet for your reference."
      ],
      "metadata": {
        "id": "scEG51bi0fNu"
      }
    },
    {
      "cell_type": "markdown",
      "source": [
        "##Feature Extraction\n",
        "##Principle Components Analysis (PCA)\n",
        "PCA is one of the most used linear dimensionality reduction technique. When using PCA, we take as input our original data and try to find a combination of the input features which can best summarize the original data distribution so that to reduce its original dimensions. PCA is able to do this by maximizing variances and minimizing the reconstruction error by looking at pair wised distances. In PCA, our original data is projected into a set of orthogonal axes and each of the axes gets ranked in order of importance.\n",
        "\n",
        "PCA is an unsupervised learning algorithm, therefore it doesn’t care about the data labels but only about variation. This can lead in some cases to misclassification of data.\n",
        "\n",
        "In this example, I will first perform PCA in the whole dataset to reduce our data to just two dimensions and I will then construct a data frame with our new features and their respective labels."
      ],
      "metadata": {
        "id": "jNpossmc04zK"
      }
    },
    {
      "cell_type": "code",
      "source": [
        "from sklearn.decomposition import PCA\n",
        "\n",
        "pca = PCA(n_components=2)\n",
        "X_pca = pca.fit_transform(X)\n",
        "PCA_df = pd.DataFrame(data = X_pca, columns = ['PC1', 'PC2'])\n",
        "PCA_df = pd.concat([PCA_df, df['Price']], axis = 1)\n",
        "PCA_df['Price'] = LabelEncoder().fit_transform(PCA_df['Price'])\n",
        "PCA_df.head()"
      ],
      "metadata": {
        "colab": {
          "base_uri": "https://localhost:8080/",
          "height": 206
        },
        "id": "C6qOEjtu01Hk",
        "outputId": "44bc9e82-847c-4f54-8cb3-eb33fc2b3101"
      },
      "execution_count": 7,
      "outputs": [
        {
          "output_type": "execute_result",
          "data": {
            "text/plain": [
              "         PC1       PC2  Price\n",
              "0  11.189566 -1.338423      2\n",
              "1  11.223435 -1.265473      2\n",
              "2   7.603653 -2.617212      2\n",
              "3 -18.301513 -5.897074      2\n",
              "4  11.191057 -1.340800      5"
            ],
            "text/html": [
              "\n",
              "  <div id=\"df-d6180c00-383e-4870-a510-8f53703c1c26\">\n",
              "    <div class=\"colab-df-container\">\n",
              "      <div>\n",
              "<style scoped>\n",
              "    .dataframe tbody tr th:only-of-type {\n",
              "        vertical-align: middle;\n",
              "    }\n",
              "\n",
              "    .dataframe tbody tr th {\n",
              "        vertical-align: top;\n",
              "    }\n",
              "\n",
              "    .dataframe thead th {\n",
              "        text-align: right;\n",
              "    }\n",
              "</style>\n",
              "<table border=\"1\" class=\"dataframe\">\n",
              "  <thead>\n",
              "    <tr style=\"text-align: right;\">\n",
              "      <th></th>\n",
              "      <th>PC1</th>\n",
              "      <th>PC2</th>\n",
              "      <th>Price</th>\n",
              "    </tr>\n",
              "  </thead>\n",
              "  <tbody>\n",
              "    <tr>\n",
              "      <th>0</th>\n",
              "      <td>11.189566</td>\n",
              "      <td>-1.338423</td>\n",
              "      <td>2</td>\n",
              "    </tr>\n",
              "    <tr>\n",
              "      <th>1</th>\n",
              "      <td>11.223435</td>\n",
              "      <td>-1.265473</td>\n",
              "      <td>2</td>\n",
              "    </tr>\n",
              "    <tr>\n",
              "      <th>2</th>\n",
              "      <td>7.603653</td>\n",
              "      <td>-2.617212</td>\n",
              "      <td>2</td>\n",
              "    </tr>\n",
              "    <tr>\n",
              "      <th>3</th>\n",
              "      <td>-18.301513</td>\n",
              "      <td>-5.897074</td>\n",
              "      <td>2</td>\n",
              "    </tr>\n",
              "    <tr>\n",
              "      <th>4</th>\n",
              "      <td>11.191057</td>\n",
              "      <td>-1.340800</td>\n",
              "      <td>5</td>\n",
              "    </tr>\n",
              "  </tbody>\n",
              "</table>\n",
              "</div>\n",
              "      <button class=\"colab-df-convert\" onclick=\"convertToInteractive('df-d6180c00-383e-4870-a510-8f53703c1c26')\"\n",
              "              title=\"Convert this dataframe to an interactive table.\"\n",
              "              style=\"display:none;\">\n",
              "        \n",
              "  <svg xmlns=\"http://www.w3.org/2000/svg\" height=\"24px\"viewBox=\"0 0 24 24\"\n",
              "       width=\"24px\">\n",
              "    <path d=\"M0 0h24v24H0V0z\" fill=\"none\"/>\n",
              "    <path d=\"M18.56 5.44l.94 2.06.94-2.06 2.06-.94-2.06-.94-.94-2.06-.94 2.06-2.06.94zm-11 1L8.5 8.5l.94-2.06 2.06-.94-2.06-.94L8.5 2.5l-.94 2.06-2.06.94zm10 10l.94 2.06.94-2.06 2.06-.94-2.06-.94-.94-2.06-.94 2.06-2.06.94z\"/><path d=\"M17.41 7.96l-1.37-1.37c-.4-.4-.92-.59-1.43-.59-.52 0-1.04.2-1.43.59L10.3 9.45l-7.72 7.72c-.78.78-.78 2.05 0 2.83L4 21.41c.39.39.9.59 1.41.59.51 0 1.02-.2 1.41-.59l7.78-7.78 2.81-2.81c.8-.78.8-2.07 0-2.86zM5.41 20L4 18.59l7.72-7.72 1.47 1.35L5.41 20z\"/>\n",
              "  </svg>\n",
              "      </button>\n",
              "      \n",
              "  <style>\n",
              "    .colab-df-container {\n",
              "      display:flex;\n",
              "      flex-wrap:wrap;\n",
              "      gap: 12px;\n",
              "    }\n",
              "\n",
              "    .colab-df-convert {\n",
              "      background-color: #E8F0FE;\n",
              "      border: none;\n",
              "      border-radius: 50%;\n",
              "      cursor: pointer;\n",
              "      display: none;\n",
              "      fill: #1967D2;\n",
              "      height: 32px;\n",
              "      padding: 0 0 0 0;\n",
              "      width: 32px;\n",
              "    }\n",
              "\n",
              "    .colab-df-convert:hover {\n",
              "      background-color: #E2EBFA;\n",
              "      box-shadow: 0px 1px 2px rgba(60, 64, 67, 0.3), 0px 1px 3px 1px rgba(60, 64, 67, 0.15);\n",
              "      fill: #174EA6;\n",
              "    }\n",
              "\n",
              "    [theme=dark] .colab-df-convert {\n",
              "      background-color: #3B4455;\n",
              "      fill: #D2E3FC;\n",
              "    }\n",
              "\n",
              "    [theme=dark] .colab-df-convert:hover {\n",
              "      background-color: #434B5C;\n",
              "      box-shadow: 0px 1px 3px 1px rgba(0, 0, 0, 0.15);\n",
              "      filter: drop-shadow(0px 1px 2px rgba(0, 0, 0, 0.3));\n",
              "      fill: #FFFFFF;\n",
              "    }\n",
              "  </style>\n",
              "\n",
              "      <script>\n",
              "        const buttonEl =\n",
              "          document.querySelector('#df-d6180c00-383e-4870-a510-8f53703c1c26 button.colab-df-convert');\n",
              "        buttonEl.style.display =\n",
              "          google.colab.kernel.accessAllowed ? 'block' : 'none';\n",
              "\n",
              "        async function convertToInteractive(key) {\n",
              "          const element = document.querySelector('#df-d6180c00-383e-4870-a510-8f53703c1c26');\n",
              "          const dataTable =\n",
              "            await google.colab.kernel.invokeFunction('convertToInteractive',\n",
              "                                                     [key], {});\n",
              "          if (!dataTable) return;\n",
              "\n",
              "          const docLinkHtml = 'Like what you see? Visit the ' +\n",
              "            '<a target=\"_blank\" href=https://colab.research.google.com/notebooks/data_table.ipynb>data table notebook</a>'\n",
              "            + ' to learn more about interactive tables.';\n",
              "          element.innerHTML = '';\n",
              "          dataTable['output_type'] = 'display_data';\n",
              "          await google.colab.output.renderOutput(dataTable, element);\n",
              "          const docLink = document.createElement('div');\n",
              "          docLink.innerHTML = docLinkHtml;\n",
              "          element.appendChild(docLink);\n",
              "        }\n",
              "      </script>\n",
              "    </div>\n",
              "  </div>\n",
              "  "
            ]
          },
          "metadata": {},
          "execution_count": 7
        }
      ]
    },
    {
      "cell_type": "markdown",
      "source": [
        "Using our newly created data frame, we can now plot our data distribution in a 2D scatter plot"
      ],
      "metadata": {
        "id": "ZiiwDqtI1XxY"
      }
    },
    {
      "cell_type": "code",
      "source": [
        "figure(num=None, figsize=(8, 8), dpi=80, facecolor='w', edgecolor='k')\n",
        "\n",
        "classes = [1, 0]\n",
        "colors = ['r', 'b']\n",
        "for clas, color in zip(classes, colors):\n",
        "    plt.scatter(PCA_df.loc[PCA_df['Price'] == clas, 'PC1'], \n",
        "                PCA_df.loc[PCA_df['Price'] == clas, 'PC2'], \n",
        "                c = color)\n",
        "    \n",
        "plt.xlabel('Principal Component 1', fontsize = 12)\n",
        "plt.ylabel('Principal Component 2', fontsize = 12)\n",
        "plt.title('2D PCA', fontsize = 15)\n",
        "plt.legend(['Poisonous', 'Edible'])\n",
        "plt.grid()"
      ],
      "metadata": {
        "colab": {
          "base_uri": "https://localhost:8080/",
          "height": 581
        },
        "id": "a4sh5fc-1Odg",
        "outputId": "1cb46575-caca-480d-cfb4-a0bccb056274"
      },
      "execution_count": 8,
      "outputs": [
        {
          "output_type": "display_data",
          "data": {
            "text/plain": [
              "<Figure size 640x640 with 1 Axes>"
            ],
            "image/png": "[encoded data removed]"
          },
          "metadata": {}
        }
      ]
    },
    {
      "cell_type": "code",
      "source": [
        "pca = PCA(n_components=3,svd_solver='full')\n",
        "X_pca = pca.fit_transform(X)\n",
        "print(pca.explained_variance_)\n",
        "\n",
        "forest_test(X_pca, Y)"
      ],
      "metadata": {
        "colab": {
          "base_uri": "https://localhost:8080/"
        },
        "id": "mrSI0ufg16IQ",
        "outputId": "cb8d2828-9de6-4a5a-cfd0-4ead132e21f1"
      },
      "execution_count": 9,
      "outputs": [
        {
          "output_type": "stream",
          "name": "stdout",
          "text": [
            "[121.04151967  54.5644589   41.01242682]\n",
            "1.6274394399999998\n",
            "[[ 0  0  1  0  0  0]\n",
            " [ 0  0  2  0  1  0]\n",
            " [ 0  0 14  0  0  0]\n",
            " [ 0  0  1  0  0  0]\n",
            " [ 0  0  1  0  1  0]\n",
            " [ 0  0  0  0  0  1]]\n",
            "              precision    recall  f1-score   support\n",
            "\n",
            "           0       0.00      0.00      0.00         1\n",
            "           1       0.00      0.00      0.00         3\n",
            "           2       0.74      1.00      0.85        14\n",
            "           3       0.00      0.00      0.00         1\n",
            "           4       0.50      0.50      0.50         2\n",
            "           6       1.00      1.00      1.00         1\n",
            "\n",
            "    accuracy                           0.73        22\n",
            "   macro avg       0.37      0.42      0.39        22\n",
            "weighted avg       0.56      0.73      0.63        22\n",
            "\n"
          ]
        },
        {
          "output_type": "stream",
          "name": "stderr",
          "text": [
            "/usr/local/lib/python3.10/dist-packages/sklearn/metrics/_classification.py:1344: UndefinedMetricWarning: Precision and F-score are ill-defined and being set to 0.0 in labels with no predicted samples. Use `zero_division` parameter to control this behavior.\n",
            "  _warn_prf(average, modifier, msg_start, len(result))\n",
            "/usr/local/lib/python3.10/dist-packages/sklearn/metrics/_classification.py:1344: UndefinedMetricWarning: Precision and F-score are ill-defined and being set to 0.0 in labels with no predicted samples. Use `zero_division` parameter to control this behavior.\n",
            "  _warn_prf(average, modifier, msg_start, len(result))\n",
            "/usr/local/lib/python3.10/dist-packages/sklearn/metrics/_classification.py:1344: UndefinedMetricWarning: Precision and F-score are ill-defined and being set to 0.0 in labels with no predicted samples. Use `zero_division` parameter to control this behavior.\n",
            "  _warn_prf(average, modifier, msg_start, len(result))\n"
          ]
        }
      ]
    },
    {
      "cell_type": "markdown",
      "source": [
        "##Independent Component Analysis (ICA)\n",
        "ICA is a linear dimensionality reduction method which takes as input data a mixture of independent components and it aims to correctly identify each of them (deleting all the unnecessary noise). Two input features can be considered independent if both their linear and not linear dependance is equal to zero [1].\n",
        "\n",
        "Independent Component Analysis is commonly used in medical applications such as EEG and fMRI analysis to separate useful signals from unhelpful ones.\n",
        "\n",
        "As a simple example of an ICA application, let’s consider we are given an audio registration in which there are two different people talking. Using ICA we could, for example, try to identify the two different independent components in the registration (the two different people). In this way, we could make our unsupervised learning algorithm recognise between the different speakers in the conversation.\n",
        "\n",
        "Using ICA, we can now again reduce our dataset to just three features, test its accuracy using a Random Forest Classifier and plot the results."
      ],
      "metadata": {
        "id": "gQOlVxqJ3S_3"
      }
    },
    {
      "cell_type": "code",
      "source": [
        "from sklearn.decomposition import FastICA\n",
        "\n",
        "ica = FastICA(n_components=3)\n",
        "X_ica = ica.fit_transform(X)\n",
        "\n",
        "forest_test(X_ica, Y)"
      ],
      "metadata": {
        "colab": {
          "base_uri": "https://localhost:8080/"
        },
        "id": "4RC7zdl_3Vlb",
        "outputId": "ff8728ec-960e-4251-ed9e-08dda53e83eb"
      },
      "execution_count": 13,
      "outputs": [
        {
          "output_type": "stream",
          "name": "stderr",
          "text": [
            "/usr/local/lib/python3.10/dist-packages/sklearn/decomposition/_fastica.py:542: FutureWarning: Starting in v1.3, whiten='unit-variance' will be used by default.\n",
            "  warnings.warn(\n",
            "/usr/local/lib/python3.10/dist-packages/sklearn/decomposition/_fastica.py:123: ConvergenceWarning: FastICA did not converge. Consider increasing tolerance or the maximum number of iterations.\n",
            "  warnings.warn(\n"
          ]
        },
        {
          "output_type": "stream",
          "name": "stdout",
          "text": [
            "1.176306756999999\n",
            "[[ 0  0  1  0  0  0]\n",
            " [ 0  0  3  0  0  0]\n",
            " [ 0  0 12  0  2  0]\n",
            " [ 0  0  1  0  0  0]\n",
            " [ 0  0  1  0  1  0]\n",
            " [ 0  0  0  0  1  0]]\n",
            "              precision    recall  f1-score   support\n",
            "\n",
            "           0       0.00      0.00      0.00         1\n",
            "           1       0.00      0.00      0.00         3\n",
            "           2       0.67      0.86      0.75        14\n",
            "           3       0.00      0.00      0.00         1\n",
            "           4       0.25      0.50      0.33         2\n",
            "           6       0.00      0.00      0.00         1\n",
            "\n",
            "    accuracy                           0.59        22\n",
            "   macro avg       0.15      0.23      0.18        22\n",
            "weighted avg       0.45      0.59      0.51        22\n",
            "\n"
          ]
        },
        {
          "output_type": "stream",
          "name": "stderr",
          "text": [
            "/usr/local/lib/python3.10/dist-packages/sklearn/metrics/_classification.py:1344: UndefinedMetricWarning: Precision and F-score are ill-defined and being set to 0.0 in labels with no predicted samples. Use `zero_division` parameter to control this behavior.\n",
            "  _warn_prf(average, modifier, msg_start, len(result))\n",
            "/usr/local/lib/python3.10/dist-packages/sklearn/metrics/_classification.py:1344: UndefinedMetricWarning: Precision and F-score are ill-defined and being set to 0.0 in labels with no predicted samples. Use `zero_division` parameter to control this behavior.\n",
            "  _warn_prf(average, modifier, msg_start, len(result))\n",
            "/usr/local/lib/python3.10/dist-packages/sklearn/metrics/_classification.py:1344: UndefinedMetricWarning: Precision and F-score are ill-defined and being set to 0.0 in labels with no predicted samples. Use `zero_division` parameter to control this behavior.\n",
            "  _warn_prf(average, modifier, msg_start, len(result))\n"
          ]
        }
      ]
    },
    {
      "cell_type": "markdown",
      "source": [
        "##Linear Discriminant Analysis (LDA)\n",
        "LDA is supervised learning dimensionality reduction technique and Machine Learning classifier.\n",
        "\n",
        "LDA aims to maximize the distance between the mean of each class and minimize the spreading within the class itself. LDA uses therefore within classes and between classes as measures. This is a good choice because maximizing the distance between the means of each class when projecting the data in a lower-dimensional space can lead to better classification results (thanks to the reduced overlap between the different classes).\n",
        "\n",
        "When using LDA, is assumed that the input data follows a Gaussian Distribution (like in this case), therefore applying LDA to not Gaussian data can possibly lead to poor classification results.\n",
        "\n",
        "In this example, we will run LDA to reduce our dataset to just one feature, test its accuracy and plot the results."
      ],
      "metadata": {
        "id": "yPKObDLF3ii-"
      }
    },
    {
      "cell_type": "code",
      "source": [
        "from sklearn.discriminant_analysis import LinearDiscriminantAnalysis\n",
        "\n",
        "lda = LinearDiscriminantAnalysis(n_components=1)\n",
        "\n",
        "# run an LDA and use it to transform the features\n",
        "X_lda = lda.fit(X, Y).transform(X)\n",
        "print('Original number of features:', X.shape[1])\n",
        "print('Reduced number of features:', X_lda.shape[1])"
      ],
      "metadata": {
        "colab": {
          "base_uri": "https://localhost:8080/"
        },
        "id": "aBAqNbMC3mDP",
        "outputId": "bdc98bfd-976d-48ee-e725-a855cc01d63e"
      },
      "execution_count": 14,
      "outputs": [
        {
          "output_type": "stream",
          "name": "stdout",
          "text": [
            "Original number of features: 429\n",
            "Reduced number of features: 1\n"
          ]
        }
      ]
    },
    {
      "cell_type": "code",
      "source": [
        "forest_test(X_lda, Y)"
      ],
      "metadata": {
        "colab": {
          "base_uri": "https://localhost:8080/"
        },
        "id": "E4fJTujv3x-Z",
        "outputId": "bdf7ed60-5038-4afd-e71a-051bfabd7af2"
      },
      "execution_count": 15,
      "outputs": [
        {
          "output_type": "stream",
          "name": "stdout",
          "text": [
            "1.3329302760000026\n",
            "[[ 0  0  1  0  0  0]\n",
            " [ 0  0  3  0  0  0]\n",
            " [ 0  0 14  0  0  0]\n",
            " [ 0  0  1  0  0  0]\n",
            " [ 0  0  2  0  0  0]\n",
            " [ 0  0  1  0  0  0]]\n",
            "              precision    recall  f1-score   support\n",
            "\n",
            "           0       0.00      0.00      0.00         1\n",
            "           1       0.00      0.00      0.00         3\n",
            "           2       0.64      1.00      0.78        14\n",
            "           3       0.00      0.00      0.00         1\n",
            "           4       0.00      0.00      0.00         2\n",
            "           6       0.00      0.00      0.00         1\n",
            "\n",
            "    accuracy                           0.64        22\n",
            "   macro avg       0.11      0.17      0.13        22\n",
            "weighted avg       0.40      0.64      0.49        22\n",
            "\n"
          ]
        },
        {
          "output_type": "stream",
          "name": "stderr",
          "text": [
            "/usr/local/lib/python3.10/dist-packages/sklearn/metrics/_classification.py:1344: UndefinedMetricWarning: Precision and F-score are ill-defined and being set to 0.0 in labels with no predicted samples. Use `zero_division` parameter to control this behavior.\n",
            "  _warn_prf(average, modifier, msg_start, len(result))\n",
            "/usr/local/lib/python3.10/dist-packages/sklearn/metrics/_classification.py:1344: UndefinedMetricWarning: Precision and F-score are ill-defined and being set to 0.0 in labels with no predicted samples. Use `zero_division` parameter to control this behavior.\n",
            "  _warn_prf(average, modifier, msg_start, len(result))\n",
            "/usr/local/lib/python3.10/dist-packages/sklearn/metrics/_classification.py:1344: UndefinedMetricWarning: Precision and F-score are ill-defined and being set to 0.0 in labels with no predicted samples. Use `zero_division` parameter to control this behavior.\n",
            "  _warn_prf(average, modifier, msg_start, len(result))\n"
          ]
        }
      ]
    },
    {
      "cell_type": "code",
      "source": [
        "X_Reduced, X_Test_Reduced, Y_Reduced, Y_Test_Reduced = train_test_split(X_lda, Y, \n",
        "                                                                        test_size = 0.30, \n",
        "                                                                        random_state = 101)\n",
        "\n",
        "start = time.process_time()\n",
        "lda = LinearDiscriminantAnalysis().fit(X_Reduced,Y_Reduced)\n",
        "print(time.process_time() - start)\n",
        "predictionlda = lda.predict(X_Test_Reduced)\n",
        "print(confusion_matrix(Y_Test_Reduced,predictionlda))\n",
        "print(classification_report(Y_Test_Reduced,predictionlda))"
      ],
      "metadata": {
        "colab": {
          "base_uri": "https://localhost:8080/"
        },
        "id": "AaseCeRt391g",
        "outputId": "adf8c805-5365-43d7-bc48-d04a74e9f284"
      },
      "execution_count": 16,
      "outputs": [
        {
          "output_type": "stream",
          "name": "stdout",
          "text": [
            "0.0023075189999985923\n",
            "[[ 0  0  1  0  0  0]\n",
            " [ 0  0  3  0  0  0]\n",
            " [ 0  0 14  0  0  0]\n",
            " [ 0  0  0  0  1  0]\n",
            " [ 0  0  2  0  0  0]\n",
            " [ 0  0  1  0  0  0]]\n",
            "              precision    recall  f1-score   support\n",
            "\n",
            "           0       0.00      0.00      0.00         1\n",
            "           1       0.00      0.00      0.00         3\n",
            "           2       0.67      1.00      0.80        14\n",
            "           3       0.00      0.00      0.00         1\n",
            "           4       0.00      0.00      0.00         2\n",
            "           6       0.00      0.00      0.00         1\n",
            "\n",
            "    accuracy                           0.64        22\n",
            "   macro avg       0.11      0.17      0.13        22\n",
            "weighted avg       0.42      0.64      0.51        22\n",
            "\n"
          ]
        },
        {
          "output_type": "stream",
          "name": "stderr",
          "text": [
            "/usr/local/lib/python3.10/dist-packages/sklearn/metrics/_classification.py:1344: UndefinedMetricWarning: Precision and F-score are ill-defined and being set to 0.0 in labels with no predicted samples. Use `zero_division` parameter to control this behavior.\n",
            "  _warn_prf(average, modifier, msg_start, len(result))\n",
            "/usr/local/lib/python3.10/dist-packages/sklearn/metrics/_classification.py:1344: UndefinedMetricWarning: Precision and F-score are ill-defined and being set to 0.0 in labels with no predicted samples. Use `zero_division` parameter to control this behavior.\n",
            "  _warn_prf(average, modifier, msg_start, len(result))\n",
            "/usr/local/lib/python3.10/dist-packages/sklearn/metrics/_classification.py:1344: UndefinedMetricWarning: Precision and F-score are ill-defined and being set to 0.0 in labels with no predicted samples. Use `zero_division` parameter to control this behavior.\n",
            "  _warn_prf(average, modifier, msg_start, len(result))\n"
          ]
        }
      ]
    },
    {
      "cell_type": "markdown",
      "source": [
        "##Locally Linear Embedding (LLE)\n",
        "We have considered so far methods such as PCA and LDA, which are able to perform really well in case of linear relationships between the different features, we will now move on considering how to deal with non-linear cases.\n",
        "\n",
        "Locally Linear Embedding is a dimensionality reduction technique based on Manifold Learning. A Manifold is an object of D dimensions which is embedded in an higher-dimensional space. Manifold Learning aims then to make this object representable in its original D dimensions instead of being represented in an unnecessary greater space.\n",
        "\n",
        "A typical example used to explain Manifold Learning in Machine Learning is the Swiss Roll Manifold (Figure 6). We are given as input some data which has a distribution resembling the one of a roll (in a 3D space), and we can then unroll it so that to reduce our data into a two-dimensional space.\n",
        "\n",
        "Some examples of Manifold Learning algorithms are: Isomap, Locally Linear Embedding, Modified Locally Linear Embedding, Hessian Eigenmapping, etc…"
      ],
      "metadata": {
        "id": "CqODsWgE4J3i"
      }
    },
    {
      "cell_type": "code",
      "source": [
        "from sklearn.manifold import LocallyLinearEmbedding\n",
        "\n",
        "embedding = LocallyLinearEmbedding(n_components=3)\n",
        "X_lle = embedding.fit_transform(X)\n",
        "\n",
        "forest_test(X_lle, Y)"
      ],
      "metadata": {
        "colab": {
          "base_uri": "https://localhost:8080/"
        },
        "id": "a1xyT2wC4LuR",
        "outputId": "687ea60f-3c9b-4fa9-b847-17f3f96b0c58"
      },
      "execution_count": 17,
      "outputs": [
        {
          "output_type": "stream",
          "name": "stdout",
          "text": [
            "1.1175625250000003\n",
            "[[ 0  0  1  0  0  0  0]\n",
            " [ 0  1  2  0  0  0  0]\n",
            " [ 0  0 13  0  0  0  1]\n",
            " [ 0  0  1  0  0  0  0]\n",
            " [ 0  0  0  0  1  0  1]\n",
            " [ 0  0  0  0  1  0  0]\n",
            " [ 0  0  0  0  0  0  0]]\n",
            "              precision    recall  f1-score   support\n",
            "\n",
            "           0       0.00      0.00      0.00         1\n",
            "           1       1.00      0.33      0.50         3\n",
            "           2       0.76      0.93      0.84        14\n",
            "           3       0.00      0.00      0.00         1\n",
            "           4       0.50      0.50      0.50         2\n",
            "           6       0.00      0.00      0.00         1\n",
            "           8       0.00      0.00      0.00         0\n",
            "\n",
            "    accuracy                           0.68        22\n",
            "   macro avg       0.32      0.25      0.26        22\n",
            "weighted avg       0.67      0.68      0.65        22\n",
            "\n"
          ]
        },
        {
          "output_type": "stream",
          "name": "stderr",
          "text": [
            "/usr/local/lib/python3.10/dist-packages/sklearn/metrics/_classification.py:1344: UndefinedMetricWarning: Precision and F-score are ill-defined and being set to 0.0 in labels with no predicted samples. Use `zero_division` parameter to control this behavior.\n",
            "  _warn_prf(average, modifier, msg_start, len(result))\n",
            "/usr/local/lib/python3.10/dist-packages/sklearn/metrics/_classification.py:1344: UndefinedMetricWarning: Recall and F-score are ill-defined and being set to 0.0 in labels with no true samples. Use `zero_division` parameter to control this behavior.\n",
            "  _warn_prf(average, modifier, msg_start, len(result))\n",
            "/usr/local/lib/python3.10/dist-packages/sklearn/metrics/_classification.py:1344: UndefinedMetricWarning: Precision and F-score are ill-defined and being set to 0.0 in labels with no predicted samples. Use `zero_division` parameter to control this behavior.\n",
            "  _warn_prf(average, modifier, msg_start, len(result))\n",
            "/usr/local/lib/python3.10/dist-packages/sklearn/metrics/_classification.py:1344: UndefinedMetricWarning: Recall and F-score are ill-defined and being set to 0.0 in labels with no true samples. Use `zero_division` parameter to control this behavior.\n",
            "  _warn_prf(average, modifier, msg_start, len(result))\n",
            "/usr/local/lib/python3.10/dist-packages/sklearn/metrics/_classification.py:1344: UndefinedMetricWarning: Precision and F-score are ill-defined and being set to 0.0 in labels with no predicted samples. Use `zero_division` parameter to control this behavior.\n",
            "  _warn_prf(average, modifier, msg_start, len(result))\n",
            "/usr/local/lib/python3.10/dist-packages/sklearn/metrics/_classification.py:1344: UndefinedMetricWarning: Recall and F-score are ill-defined and being set to 0.0 in labels with no true samples. Use `zero_division` parameter to control this behavior.\n",
            "  _warn_prf(average, modifier, msg_start, len(result))\n"
          ]
        }
      ]
    },
    {
      "cell_type": "markdown",
      "source": [
        "##t-distributed Stochastic Neighbor Embedding (t-SNE)\n",
        "t-SNE is non-linear dimensionality reduction technique which is typically used to visualize high dimensional datasets. Some of the main applications of t-SNE are Natural Language Processing (NLP), speech processing, etc…\n",
        "\n",
        "t-SNE works by minimizing the divergence between a distribution constituted by the pairwise probability similarities of the input features in the original high dimensional space and its equivalent in the reduced low dimensional space. t-SNE makes then use of the Kullback-Leiber (KL) divergence in order to measure the dissimilarity of the two different distributions. The KL divergence is then minimized using gradient descent.\n",
        "\n",
        "When using t-SNE, the higher dimensional space is modelled using a Gaussian Distribution, while the lower-dimensional space is modelled using a Student’s t-distribution. This is done, in order to avoid an imbalance in the neighbouring points distance distribution caused by the translation into a lower-dimensional space.\n",
        "\n",
        "We are now ready to use TSNE and reduce our dataset to just 3 features."
      ],
      "metadata": {
        "id": "lmGrX0ck4VwZ"
      }
    },
    {
      "cell_type": "code",
      "source": [
        "from sklearn.manifold import TSNE\n",
        "\n",
        "start = time.process_time()\n",
        "tsne = TSNE(n_components=3, verbose=1, perplexity=40, n_iter=300)\n",
        "X_tsne = tsne.fit_transform(X)\n",
        "print(time.process_time() - start)"
      ],
      "metadata": {
        "colab": {
          "base_uri": "https://localhost:8080/"
        },
        "id": "_rpV0sEr4Udn",
        "outputId": "76cc5684-50ad-4457-933f-9b1985046326"
      },
      "execution_count": 18,
      "outputs": [
        {
          "output_type": "stream",
          "name": "stdout",
          "text": [
            "[t-SNE] Computing 72 nearest neighbors...\n",
            "[t-SNE] Indexed 73 samples in 0.001s...\n",
            "[t-SNE] Computed neighbors for 73 samples in 0.100s...\n",
            "[t-SNE] Computed conditional probabilities for sample 73 / 73\n",
            "[t-SNE] Mean sigma: 16.222635\n",
            "[t-SNE] KL divergence after 250 iterations with early exaggeration: 117.167099\n",
            "[t-SNE] KL divergence after 300 iterations: 2.395250\n",
            "1.8237638090000061\n"
          ]
        }
      ]
    },
    {
      "cell_type": "markdown",
      "source": [
        "Testing our Random Forest accuracy using the t-SNE reduced subset confirms that now our classes can be easily separated."
      ],
      "metadata": {
        "id": "qe_mvOR34ivW"
      }
    },
    {
      "cell_type": "code",
      "source": [
        "forest_test(X_tsne, Y)"
      ],
      "metadata": {
        "colab": {
          "base_uri": "https://localhost:8080/"
        },
        "id": "eFXm9OE_4jwD",
        "outputId": "13f75a40-996a-4e39-d8b8-999e8a07a0cd"
      },
      "execution_count": 19,
      "outputs": [
        {
          "output_type": "stream",
          "name": "stdout",
          "text": [
            "1.3674106859999995\n",
            "[[ 0  0  1  0  0  0]\n",
            " [ 0  0  3  0  0  0]\n",
            " [ 0  0 10  0  4  0]\n",
            " [ 0  0  1  0  0  0]\n",
            " [ 0  0  2  0  0  0]\n",
            " [ 0  0  0  0  1  0]]\n",
            "              precision    recall  f1-score   support\n",
            "\n",
            "           0       0.00      0.00      0.00         1\n",
            "           1       0.00      0.00      0.00         3\n",
            "           2       0.59      0.71      0.65        14\n",
            "           3       0.00      0.00      0.00         1\n",
            "           4       0.00      0.00      0.00         2\n",
            "           6       0.00      0.00      0.00         1\n",
            "\n",
            "    accuracy                           0.45        22\n",
            "   macro avg       0.10      0.12      0.11        22\n",
            "weighted avg       0.37      0.45      0.41        22\n",
            "\n"
          ]
        },
        {
          "output_type": "stream",
          "name": "stderr",
          "text": [
            "/usr/local/lib/python3.10/dist-packages/sklearn/metrics/_classification.py:1344: UndefinedMetricWarning: Precision and F-score are ill-defined and being set to 0.0 in labels with no predicted samples. Use `zero_division` parameter to control this behavior.\n",
            "  _warn_prf(average, modifier, msg_start, len(result))\n",
            "/usr/local/lib/python3.10/dist-packages/sklearn/metrics/_classification.py:1344: UndefinedMetricWarning: Precision and F-score are ill-defined and being set to 0.0 in labels with no predicted samples. Use `zero_division` parameter to control this behavior.\n",
            "  _warn_prf(average, modifier, msg_start, len(result))\n",
            "/usr/local/lib/python3.10/dist-packages/sklearn/metrics/_classification.py:1344: UndefinedMetricWarning: Precision and F-score are ill-defined and being set to 0.0 in labels with no predicted samples. Use `zero_division` parameter to control this behavior.\n",
            "  _warn_prf(average, modifier, msg_start, len(result))\n"
          ]
        }
      ]
    },
    {
      "cell_type": "markdown",
      "source": [
        "##Autoencoders\n",
        "Autoencoders are a family of Machine Learning algorithms which can be used as a dimensionality reduction technique. The main difference between Autoencoders and other dimensionality reduction techniques is that Autoencoders use non-linear transformations to project data from a high dimension to a lower one.\n",
        "\n",
        "If all the input features are independent of each other, then the Autoencoder will find particularly difficult to encode and decode to input data into a lower-dimensional space.\n",
        "\n",
        "Autoencoders can be implemented in Python using Keras API. In this case, we specify in the encoding layer the number of features we want to get our input data reduced to (for this example 3). As we can see from the code snippet below, Autoencoders take X (our input features) as both our features and labels (X, Y).\n",
        "\n",
        "For this example, I decided to use ReLu as the activation function for the encoding stage and Softmax for the decoding stage. If I wouldn’t have used non-linear activation functions, then the Autoencoder would have tried to reduce the input data using a linear transformation (therefore giving us a result similar to if we would have used PCA)."
      ],
      "metadata": {
        "id": "P5uxSXXv4wxU"
      }
    },
    {
      "cell_type": "code",
      "source": [
        "from keras.layers import Input, Dense\n",
        "from keras.models import Model\n",
        "\n",
        "input_layer = Input(shape=(X.shape[1],))\n",
        "encoded = Dense(3, activation='relu')(input_layer)\n",
        "decoded = Dense(X.shape[1], activation='softmax')(encoded)\n",
        "autoencoder = Model(input_layer, decoded)\n",
        "autoencoder.compile(optimizer='adam', loss='binary_crossentropy')\n",
        "\n",
        "X1, X2, Y1, Y2 = train_test_split(X, X, test_size=0.3, random_state=101)\n",
        "\n",
        "autoencoder.fit(X1, Y1,\n",
        "                epochs=100,\n",
        "                batch_size=300,\n",
        "                shuffle=True,\n",
        "                verbose = 30,\n",
        "                validation_data=(X2, Y2))\n",
        "\n",
        "encoder = Model(input_layer, encoded)\n",
        "X_ae = encoder.predict(X)"
      ],
      "metadata": {
        "colab": {
          "base_uri": "https://localhost:8080/"
        },
        "id": "NY9EUqPk4_GA",
        "outputId": "357d5f1d-8f6a-4ef2-c1f7-87bae14cf9e4"
      },
      "execution_count": 20,
      "outputs": [
        {
          "output_type": "stream",
          "name": "stdout",
          "text": [
            "Epoch 1/100\n",
            "Epoch 2/100\n",
            "Epoch 3/100\n",
            "Epoch 4/100\n",
            "Epoch 5/100\n",
            "Epoch 6/100\n",
            "Epoch 7/100\n",
            "Epoch 8/100\n",
            "Epoch 9/100\n",
            "Epoch 10/100\n",
            "Epoch 11/100\n",
            "Epoch 12/100\n",
            "Epoch 13/100\n",
            "Epoch 14/100\n",
            "Epoch 15/100\n",
            "Epoch 16/100\n",
            "Epoch 17/100\n",
            "Epoch 18/100\n",
            "Epoch 19/100\n",
            "Epoch 20/100\n",
            "Epoch 21/100\n",
            "Epoch 22/100\n",
            "Epoch 23/100\n",
            "Epoch 24/100\n",
            "Epoch 25/100\n",
            "Epoch 26/100\n",
            "Epoch 27/100\n",
            "Epoch 28/100\n",
            "Epoch 29/100\n",
            "Epoch 30/100\n",
            "Epoch 31/100\n",
            "Epoch 32/100\n",
            "Epoch 33/100\n",
            "Epoch 34/100\n",
            "Epoch 35/100\n",
            "Epoch 36/100\n",
            "Epoch 37/100\n",
            "Epoch 38/100\n",
            "Epoch 39/100\n",
            "Epoch 40/100\n",
            "Epoch 41/100\n",
            "Epoch 42/100\n",
            "Epoch 43/100\n",
            "Epoch 44/100\n",
            "Epoch 45/100\n",
            "Epoch 46/100\n",
            "Epoch 47/100\n",
            "Epoch 48/100\n",
            "Epoch 49/100\n",
            "Epoch 50/100\n",
            "Epoch 51/100\n",
            "Epoch 52/100\n",
            "Epoch 53/100\n",
            "Epoch 54/100\n",
            "Epoch 55/100\n",
            "Epoch 56/100\n",
            "Epoch 57/100\n",
            "Epoch 58/100\n",
            "Epoch 59/100\n",
            "Epoch 60/100\n",
            "Epoch 61/100\n",
            "Epoch 62/100\n",
            "Epoch 63/100\n",
            "Epoch 64/100\n",
            "Epoch 65/100\n",
            "Epoch 66/100\n",
            "Epoch 67/100\n",
            "Epoch 68/100\n",
            "Epoch 69/100\n",
            "Epoch 70/100\n",
            "Epoch 71/100\n",
            "Epoch 72/100\n",
            "Epoch 73/100\n",
            "Epoch 74/100\n",
            "Epoch 75/100\n",
            "Epoch 76/100\n",
            "Epoch 77/100\n",
            "Epoch 78/100\n",
            "Epoch 79/100\n",
            "Epoch 80/100\n",
            "Epoch 81/100\n",
            "Epoch 82/100\n",
            "Epoch 83/100\n",
            "Epoch 84/100\n",
            "Epoch 85/100\n",
            "Epoch 86/100\n",
            "Epoch 87/100\n",
            "Epoch 88/100\n",
            "Epoch 89/100\n",
            "Epoch 90/100\n",
            "Epoch 91/100\n",
            "Epoch 92/100\n",
            "Epoch 93/100\n",
            "Epoch 94/100\n",
            "Epoch 95/100\n",
            "Epoch 96/100\n",
            "Epoch 97/100\n",
            "Epoch 98/100\n",
            "Epoch 99/100\n",
            "Epoch 100/100\n",
            "3/3 [==============================] - 0s 4ms/step\n"
          ]
        }
      ]
    },
    {
      "cell_type": "markdown",
      "source": [
        "We can now repeat a similar workflow as in the previous examples, this time using a simple Autoencoder as our Feature Extraction Technique."
      ],
      "metadata": {
        "id": "D1fOwS_Z5P9-"
      }
    },
    {
      "cell_type": "code",
      "source": [
        "forest_test(X_ae, Y)"
      ],
      "metadata": {
        "colab": {
          "base_uri": "https://localhost:8080/"
        },
        "id": "KzsCkPId5Fev",
        "outputId": "ce6c1a2e-429c-4d13-926c-4e7aef37845c"
      },
      "execution_count": 21,
      "outputs": [
        {
          "output_type": "stream",
          "name": "stdout",
          "text": [
            "1.3053631760000002\n",
            "[[ 0  0  1  0  0  0]\n",
            " [ 0  0  3  0  0  0]\n",
            " [ 0  0 14  0  0  0]\n",
            " [ 0  0  1  0  0  0]\n",
            " [ 0  0  1  0  1  0]\n",
            " [ 0  0  0  0  1  0]]\n",
            "              precision    recall  f1-score   support\n",
            "\n",
            "           0       0.00      0.00      0.00         1\n",
            "           1       0.00      0.00      0.00         3\n",
            "           2       0.70      1.00      0.82        14\n",
            "           3       0.00      0.00      0.00         1\n",
            "           4       0.50      0.50      0.50         2\n",
            "           6       0.00      0.00      0.00         1\n",
            "\n",
            "    accuracy                           0.68        22\n",
            "   macro avg       0.20      0.25      0.22        22\n",
            "weighted avg       0.49      0.68      0.57        22\n",
            "\n"
          ]
        },
        {
          "output_type": "stream",
          "name": "stderr",
          "text": [
            "/usr/local/lib/python3.10/dist-packages/sklearn/metrics/_classification.py:1344: UndefinedMetricWarning: Precision and F-score are ill-defined and being set to 0.0 in labels with no predicted samples. Use `zero_division` parameter to control this behavior.\n",
            "  _warn_prf(average, modifier, msg_start, len(result))\n",
            "/usr/local/lib/python3.10/dist-packages/sklearn/metrics/_classification.py:1344: UndefinedMetricWarning: Precision and F-score are ill-defined and being set to 0.0 in labels with no predicted samples. Use `zero_division` parameter to control this behavior.\n",
            "  _warn_prf(average, modifier, msg_start, len(result))\n",
            "/usr/local/lib/python3.10/dist-packages/sklearn/metrics/_classification.py:1344: UndefinedMetricWarning: Precision and F-score are ill-defined and being set to 0.0 in labels with no predicted samples. Use `zero_division` parameter to control this behavior.\n",
            "  _warn_prf(average, modifier, msg_start, len(result))\n"
          ]
        }
      ]
    },
    {
      "cell_type": "markdown",
      "source": [
        "Source:\n",
        "\n",
        "https://ppiconsulting.dev/blog/blog29/"
      ],
      "metadata": {
        "id": "LrWeK-pa5jCP"
      }
    },
    {
      "cell_type": "code",
      "source": [],
      "metadata": {
        "id": "rWzkzDil5lOA"
      },
      "execution_count": null,
      "outputs": []
    }
  ]
}